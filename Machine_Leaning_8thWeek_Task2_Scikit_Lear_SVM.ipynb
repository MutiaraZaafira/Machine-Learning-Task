{
  "nbformat": 4,
  "nbformat_minor": 0,
  "metadata": {
    "colab": {
      "name": "Machine_Leaning_8thWeek_Task2_Scikit_Lear_SVM.ipynb",
      "provenance": [],
      "authorship_tag": "ABX9TyMArWnNuKm/c7wqh4MS/dXU",
      "include_colab_link": true
    },
    "kernelspec": {
      "name": "python3",
      "display_name": "Python 3"
    },
    "language_info": {
      "name": "python"
    }
  },
  "cells": [
    {
      "cell_type": "markdown",
      "metadata": {
        "id": "view-in-github",
        "colab_type": "text"
      },
      "source": [
        "<a href=\"https://colab.research.google.com/github/MutiaraZaafira/Machine-Learning-Task/blob/main/Machine_Leaning_8thWeek_Task2_Scikit_Lear_SVM.ipynb\" target=\"_parent\"><img src=\"https://colab.research.google.com/assets/colab-badge.svg\" alt=\"Open In Colab\"/></a>"
      ]
    },
    {
      "cell_type": "code",
      "execution_count": null,
      "metadata": {
        "colab": {
          "base_uri": "https://localhost:8080/"
        },
        "id": "HDEaCd4EsI7-",
        "outputId": "769258a6-2b96-41b3-c8b2-f5b47bee1e17"
      },
      "outputs": [
        {
          "output_type": "execute_result",
          "data": {
            "text/plain": [
              "SVC()"
            ]
          },
          "metadata": {},
          "execution_count": 1
        }
      ],
      "source": [
        "from sklearn import svm\n",
        "X = [[0, 0], [1, 1]]\n",
        "y = [0, 1]\n",
        "clf = svm.SVC()\n",
        "clf.fit(X, y)"
      ]
    },
    {
      "cell_type": "code",
      "source": [
        "clf.predict([[2., 2.]])"
      ],
      "metadata": {
        "colab": {
          "base_uri": "https://localhost:8080/"
        },
        "id": "UopgPVcKsLpP",
        "outputId": "0aec001d-3c55-4ebe-9786-bf64cc07935c"
      },
      "execution_count": null,
      "outputs": [
        {
          "output_type": "execute_result",
          "data": {
            "text/plain": [
              "array([1])"
            ]
          },
          "metadata": {},
          "execution_count": 2
        }
      ]
    },
    {
      "cell_type": "code",
      "source": [
        "# get support vectors\n",
        "clf.support_vectors_"
      ],
      "metadata": {
        "colab": {
          "base_uri": "https://localhost:8080/"
        },
        "id": "Gc7d8H_usN0k",
        "outputId": "9d9d4c4a-7ffc-466e-b4f6-57b108ccc08f"
      },
      "execution_count": null,
      "outputs": [
        {
          "output_type": "execute_result",
          "data": {
            "text/plain": [
              "array([[0., 0.],\n",
              "       [1., 1.]])"
            ]
          },
          "metadata": {},
          "execution_count": 3
        }
      ]
    },
    {
      "cell_type": "code",
      "source": [
        "# get indices of support vectors\n",
        "clf.support_"
      ],
      "metadata": {
        "colab": {
          "base_uri": "https://localhost:8080/"
        },
        "id": "ZUUREyNWsOyB",
        "outputId": "f46ba0b6-a5c8-4ead-9c94-c22c14c7aef4"
      },
      "execution_count": null,
      "outputs": [
        {
          "output_type": "execute_result",
          "data": {
            "text/plain": [
              "array([0, 1], dtype=int32)"
            ]
          },
          "metadata": {},
          "execution_count": 4
        }
      ]
    },
    {
      "cell_type": "code",
      "source": [
        "# get number of support vectors for each class\n",
        "clf.n_support_"
      ],
      "metadata": {
        "colab": {
          "base_uri": "https://localhost:8080/"
        },
        "id": "ly0oNSh1sPon",
        "outputId": "5c991040-c59a-4392-ed86-e9499cb6a4fe"
      },
      "execution_count": null,
      "outputs": [
        {
          "output_type": "execute_result",
          "data": {
            "text/plain": [
              "array([1, 1], dtype=int32)"
            ]
          },
          "metadata": {},
          "execution_count": 5
        }
      ]
    },
    {
      "cell_type": "markdown",
      "source": [
        "Multi-class classification"
      ],
      "metadata": {
        "id": "Q_qc8J75seKh"
      }
    },
    {
      "cell_type": "code",
      "source": [
        "X = [[0], [1], [2], [3]]\n",
        "Y = [0, 1, 2, 3]\n",
        "clf = svm.SVC(decision_function_shape='ovo')\n",
        "clf.fit(X, Y)"
      ],
      "metadata": {
        "colab": {
          "base_uri": "https://localhost:8080/"
        },
        "id": "nxgQb6X0sQ4f",
        "outputId": "10423c26-7a46-400f-89df-b5a7bf8d3a72"
      },
      "execution_count": null,
      "outputs": [
        {
          "output_type": "execute_result",
          "data": {
            "text/plain": [
              "SVC(decision_function_shape='ovo')"
            ]
          },
          "metadata": {},
          "execution_count": 6
        }
      ]
    },
    {
      "cell_type": "code",
      "source": [
        "dec = clf.decision_function([[1]])\n",
        "dec.shape[1] # 4 classes: 4*3/2 = 6"
      ],
      "metadata": {
        "colab": {
          "base_uri": "https://localhost:8080/"
        },
        "id": "sAVSgtCCsSAt",
        "outputId": "d2a552fe-efe4-422d-da03-9ca6747a7f11"
      },
      "execution_count": null,
      "outputs": [
        {
          "output_type": "execute_result",
          "data": {
            "text/plain": [
              "6"
            ]
          },
          "metadata": {},
          "execution_count": 7
        }
      ]
    },
    {
      "cell_type": "code",
      "source": [
        "clf.decision_function_shape = \"ovr\"\n",
        "dec = clf.decision_function([[1]])\n",
        "dec.shape[1] # 4 classes"
      ],
      "metadata": {
        "colab": {
          "base_uri": "https://localhost:8080/"
        },
        "id": "0v_Giw2RsTbK",
        "outputId": "4d12f27c-ef5a-46d0-b059-f3a6e92616f0"
      },
      "execution_count": null,
      "outputs": [
        {
          "output_type": "execute_result",
          "data": {
            "text/plain": [
              "4"
            ]
          },
          "metadata": {},
          "execution_count": 8
        }
      ]
    },
    {
      "cell_type": "markdown",
      "source": [
        "LinearSVC implements “one-vs-the-rest”"
      ],
      "metadata": {
        "id": "ui9Nyot2siQ4"
      }
    },
    {
      "cell_type": "code",
      "source": [
        "lin_clf = svm.LinearSVC()\n",
        "lin_clf.fit(X, Y)"
      ],
      "metadata": {
        "colab": {
          "base_uri": "https://localhost:8080/"
        },
        "id": "q9TJaiPysUmJ",
        "outputId": "d043bf7e-89cf-4caf-ece2-72b60801b5d4"
      },
      "execution_count": null,
      "outputs": [
        {
          "output_type": "execute_result",
          "data": {
            "text/plain": [
              "LinearSVC()"
            ]
          },
          "metadata": {},
          "execution_count": 9
        }
      ]
    },
    {
      "cell_type": "markdown",
      "source": [
        ""
      ],
      "metadata": {
        "id": "s5qDjS74sntE"
      }
    },
    {
      "cell_type": "code",
      "source": [
        "dec = lin_clf.decision_function([[1]])\n",
        "dec.shape[1]"
      ],
      "metadata": {
        "colab": {
          "base_uri": "https://localhost:8080/"
        },
        "id": "WH5kLaq1sVhN",
        "outputId": "60a10195-52de-4dd4-fceb-a66b4d6efa83"
      },
      "execution_count": null,
      "outputs": [
        {
          "output_type": "execute_result",
          "data": {
            "text/plain": [
              "4"
            ]
          },
          "metadata": {},
          "execution_count": 10
        }
      ]
    },
    {
      "cell_type": "markdown",
      "source": [
        "Regression"
      ],
      "metadata": {
        "id": "CzZqDVv1smdb"
      }
    },
    {
      "cell_type": "code",
      "source": [
        "from sklearn import svm\n",
        "X = [[0, 0], [2, 2]]\n",
        "y = [0.5, 2.5]\n",
        "regr = svm.SVR()\n",
        "regr.fit(X, y)\n",
        "regr.predict([[1, 1]])"
      ],
      "metadata": {
        "colab": {
          "base_uri": "https://localhost:8080/"
        },
        "id": "WE3Lt-xDsW37",
        "outputId": "92fedbc8-7d62-4b56-9653-ea4f1d4413ea"
      },
      "execution_count": null,
      "outputs": [
        {
          "output_type": "execute_result",
          "data": {
            "text/plain": [
              "array([1.5])"
            ]
          },
          "metadata": {},
          "execution_count": 11
        }
      ]
    },
    {
      "cell_type": "markdown",
      "source": [
        "Kernel functions"
      ],
      "metadata": {
        "id": "J_TtzgIcsoxr"
      }
    },
    {
      "cell_type": "code",
      "source": [
        "linear_svc = svm.SVC(kernel='linear')\n",
        "linear_svc.kernel"
      ],
      "metadata": {
        "colab": {
          "base_uri": "https://localhost:8080/",
          "height": 35
        },
        "id": "azrgu-gcsYbO",
        "outputId": "dfeee356-dfbc-44a3-9dae-048e863d404d"
      },
      "execution_count": null,
      "outputs": [
        {
          "output_type": "execute_result",
          "data": {
            "application/vnd.google.colaboratory.intrinsic+json": {
              "type": "string"
            },
            "text/plain": [
              "'linear'"
            ]
          },
          "metadata": {},
          "execution_count": 12
        }
      ]
    },
    {
      "cell_type": "code",
      "source": [
        "rbf_svc = svm.SVC(kernel='rbf')\n",
        "rbf_svc.kernel"
      ],
      "metadata": {
        "colab": {
          "base_uri": "https://localhost:8080/",
          "height": 35
        },
        "id": "lwqlOlLpsZ4v",
        "outputId": "79896920-be16-4a2b-a542-d197e5c38263"
      },
      "execution_count": null,
      "outputs": [
        {
          "output_type": "execute_result",
          "data": {
            "application/vnd.google.colaboratory.intrinsic+json": {
              "type": "string"
            },
            "text/plain": [
              "'rbf'"
            ]
          },
          "metadata": {},
          "execution_count": 13
        }
      ]
    }
  ]
}